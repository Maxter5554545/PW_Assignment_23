{
 "cells": [
  {
   "cell_type": "code",
   "execution_count": 64,
   "id": "4d8fd802-46d0-4e54-bff6-925723797cc8",
   "metadata": {},
   "outputs": [],
   "source": [
    "import pandas as pd\n",
    "import logging\n",
    "logging.basicConfig(filename=\"Pendagenda.log\", level=logging.DEBUG)"
   ]
  },
  {
   "cell_type": "code",
   "execution_count": 2,
   "id": "60a41e54-e7d5-45ef-811e-12ec801b3c7f",
   "metadata": {},
   "outputs": [],
   "source": [
    "course_name = ['Data Science', 'Machine Learning', 'Big Data', 'Data Engineer']\n",
    "duration = [2,3,6,4]\n",
    "df = pd.DataFrame(data={'course_name':course_name, 'duration':duration})"
   ]
  },
  {
   "cell_type": "code",
   "execution_count": 63,
   "id": "5a11bb19-fd47-4bb6-abf1-65edc599ea83",
   "metadata": {},
   "outputs": [],
   "source": [
    "# Q1. Write a code to print the data present in the second row of the dataframe, df.\n",
    "try:\n",
    "    logging.info(df.iloc[1])\n",
    "except IndexError as i:\n",
    "    logging.error(i)"
   ]
  },
  {
   "cell_type": "code",
   "execution_count": 10,
   "id": "feedd089-7bc5-48ae-8bb1-4edd95d11556",
   "metadata": {},
   "outputs": [],
   "source": [
    "# Q2. What is the difference between the functions loc and iloc in pandas.DataFrame?\n",
    "try:\n",
    "    logging.info('''df.loc is label-based generally uses strings or array of characters to access the rows & columns while,\n",
    "    df.iloc is integer based generally uses index values for accessing the rows & columns''')\n",
    "except TypeError as t:\n",
    "    logging.error(t)"
   ]
  },
  {
   "cell_type": "code",
   "execution_count": 53,
   "id": "1bde1b41-2a91-4c78-a975-7d63a11338a5",
   "metadata": {},
   "outputs": [],
   "source": [
    "# Q3. Reindex the given dataframe using a variable, reindex = [3,0,1,2] and store it in the variable, new_df\n",
    "# then find the output for both new_df.loc[2] and new_df.iloc[2].\n",
    "try:\n",
    "    columns = ['column_1', 'column_2', 'column_3', 'column_4', 'column_6']\n",
    "    indices = [1,2,3,4,5,6]\n",
    "    df1 = pd.DataFrame(np.random.rand(6,6), columns = columns, index = indices)\n",
    "    reindex = [3,0,1,2]\n",
    "    new_df = df1.reindex(reindex)\n",
    "    niloc = new_df.iloc[2]\n",
    "    nloc = new_df.loc[2]\n",
    "except (KeyError, ValueError, TypeError, IndexError, IOError) as er:\n",
    "    logging.error(er)"
   ]
  },
  {
   "cell_type": "code",
   "execution_count": 73,
   "id": "f7222240-d5bd-43ae-8bf4-d3291da6d27a",
   "metadata": {},
   "outputs": [
    {
     "name": "stdout",
     "output_type": "stream",
     "text": [
      "The Mean of whole column is :\n",
      "column_1     3.5\n",
      "column_2     9.5\n",
      "column_3    15.5\n",
      "column_4    21.5\n",
      "column_6    27.5\n",
      "dtype: float64\n",
      "The Standard deviation of the Column_2 is: 1.8708286933869707\n"
     ]
    }
   ],
   "source": [
    "# Q4. Write a code to find the following statistical measurements for the above dataframe df1:\n",
    "# (i) mean of each and every column present in the dataframe.\n",
    "# (ii) standard deviation of column, ‘column_2’\n",
    "\n",
    "try:\n",
    "    columns = ['column_1', 'column_2', 'column_3', 'column_4', 'column_6']\n",
    "    indices = [1,2,3,4,5,6]\n",
    "    data = {\n",
    "        'column_1': [1, 2, 3, 4, 5, 6],\n",
    "        'column_2': [7, 8, 9, 10, 11, 12],\n",
    "        'column_3': [13, 14, 15, 16, 17, 18],\n",
    "        'column_4': [19, 20, 21, 22, 23, 24],\n",
    "        'column_6': [25, 26, 27, 28, 29, 30]\n",
    "    }\n",
    "    df2 = pd.DataFrame(data, index=indices)\n",
    "    logging.info(f\"The Mean of whole column is :\\n{df2.mean()}\")\n",
    "\n",
    "    standard_deviate = df2[\"column_2\"].std()\n",
    "\n",
    "    logging.info(f\"The Standard deviation of the Column_2 is: {standard_deviate}\")\n",
    "\n",
    "except (KeyError, ValueError, TypeError, IndexError, IOError) as er:\n",
    "    logging.error(er)"
   ]
  },
  {
   "cell_type": "code",
   "execution_count": 87,
   "id": "556c28f2-50be-4793-a3eb-9ca2713e1e89",
   "metadata": {},
   "outputs": [
    {
     "name": "stdout",
     "output_type": "stream",
     "text": [
      "You are trying to take the mean with a string\n"
     ]
    }
   ],
   "source": [
    "# Q5. Replace the data present in the second row of column, ‘column_2’ by a string variable then find the\n",
    "# mean of column, column_2.\n",
    "# If you are getting errors in executing it then explain why.\n",
    "# [Hint: To replace the data use df1.loc[] and equate this to string data of your choice.]\n",
    "try:\n",
    "    df2.loc[2, \"column_2\"] = 'string_var'\n",
    "    df2[\"column_2\"].mean()\n",
    "    logging.info(\"I'm having the error because of I'm trying to take out the mean of a string.\")\n",
    "except:\n",
    "    logging.error(\"You are trying to take the mean with a string\")"
   ]
  },
  {
   "cell_type": "code",
   "execution_count": 95,
   "id": "71f968f4-4e00-4125-ac0c-9e71f41db666",
   "metadata": {},
   "outputs": [
    {
     "name": "stdout",
     "output_type": "stream",
     "text": [
      "1     NaN\n",
      "2    27.0\n",
      "3    29.0\n",
      "4    31.0\n",
      "5    33.0\n",
      "6    35.0\n",
      "Name: column_3, dtype: float64\n",
      "1         NaN\n",
      "2    0.707107\n",
      "3    0.707107\n",
      "4    0.707107\n",
      "5    0.707107\n",
      "6    0.707107\n",
      "Name: column_3, dtype: float64\n",
      "1     NaN\n",
      "2    13.5\n",
      "3    14.5\n",
      "4    15.5\n",
      "5    16.5\n",
      "6    17.5\n",
      "Name: column_3, dtype: float64\n"
     ]
    }
   ],
   "source": [
    "# Q6. What do you understand about the windows function in pandas and list the types of windows\n",
    "# functions?\n",
    "try:\n",
    "    logging.info(\"windows function in pandas are actually used to select a window in the rows or a column\\nThe type of windows function used are sum, mean, standard deviation, maximum, minimum etc....\")\n",
    "except TypeError as t:\n",
    "    logging.error(t)"
   ]
  },
  {
   "cell_type": "code",
   "execution_count": 131,
   "id": "fe473859-b925-4a12-a07f-784198024703",
   "metadata": {},
   "outputs": [
    {
     "name": "stdout",
     "output_type": "stream",
     "text": [
      "The current month is : 2\n",
      "The current date is : 14\n"
     ]
    }
   ],
   "source": [
    "# Q7. Write a code to print only the current month and year at the time of answering this question.\n",
    "# [Hint: Use pandas.datetime function]\n",
    "try:\n",
    "    dates =  pd.to_datetime(\"2024-02-14\")\n",
    "    update = pd.DataFrame({\"dates\": [dates]})\n",
    "    month = update[\"dates\"].dt.month.iloc[0]\n",
    "    taarik = update[\"dates\"].dt.day.iloc[0]\n",
    "    logging.info(f\"The current month is : {month}\\nThe current date is : {taarik}\")\n",
    "except as (ValueError, KeyError, InterruptedError) as err:\n",
    "    loggging.error(err)"
   ]
  },
  {
   "cell_type": "code",
   "execution_count": 15,
   "id": "2440b6c0-02cc-4d18-85cb-82c141a36fd4",
   "metadata": {},
   "outputs": [
    {
     "name": "stdin",
     "output_type": "stream",
     "text": [
      "Please enter first date in (yyyy-mm-dd):  2023-08-17\n",
      "Please enter the second date in (yyyy-mm-dd):  2019-04-29\n"
     ]
    },
    {
     "name": "stdout",
     "output_type": "stream",
     "text": [
      "The difference of the dates is : 1571 days 00:00:00\n",
      "Days: 1571\n",
      "Hours: 0\n",
      "Minutes: 0\n"
     ]
    }
   ],
   "source": [
    "# Q8. Write a Python program that takes in two dates as input (in the format YYYY-MM-DD) and\n",
    "# calculates the difference between them in days, hours, and minutes using Pandas time delta. The\n",
    "# program should prompt the user to enter the dates and display the result.\n",
    "try:\n",
    "    d1 = input(\"Please enter first date in (yyyy-mm-dd): \")\n",
    "    d2 = input(\"Please enter the second date in (yyyy-mm-dd): \")\n",
    "    dt1 = pd.to_datetime(dt1)\n",
    "    dt2 = pd.to_datetime(dt2)\n",
    "    timedelta = dt1-dt2\n",
    "    days = timedelta.days\n",
    "    logging.info(f\"The difference of the dates is : {timedelta}\\nDays: {days}\\nHours: {hours}\\nMinutes: {minutes}\")\n",
    "except ValueError as v:\n",
    "    logging.error(v)"
   ]
  },
  {
   "cell_type": "code",
   "execution_count": 38,
   "id": "dbf70098-45ff-437a-b210-3cd343972c88",
   "metadata": {},
   "outputs": [
    {
     "name": "stdin",
     "output_type": "stream",
     "text": [
      "Please enter the file path:  samplePw.csv\n"
     ]
    },
    {
     "data": {
      "text/plain": [
       "<AxesSubplot: >"
      ]
     },
     "execution_count": 38,
     "metadata": {},
     "output_type": "execute_result"
    },
    {
     "data": {
      "image/png": "[encoded data removed]",
      "text/plain": [
       "<Figure size 640x480 with 1 Axes>"
      ]
     },
     "metadata": {},
     "output_type": "display_data"
    }
   ],
   "source": [
    "# Q10. Write a Python program that reads a CSV file containing sales data for different products and\n",
    "# visualizes the data using a stacked bar chart to show the sales of each product category over time. The\n",
    "# program should prompt the user to enter the file path and display the chart.\n",
    "try:\n",
    "    inp = input(\"Please enter the file path: \")\n",
    "\n",
    "    product = pd.read_csv(inp)\n",
    "\n",
    "    redex = product.reindex([1,2,3,4,5,6,7,8,9,10,11,12,13,14,15])\n",
    "\n",
    "\n",
    "    logging.info(redex.plot.bar())\n",
    "except ValueError as v:\n",
    "    logging.error(v)"
   ]
  },
  {
   "cell_type": "code",
   "execution_count": 60,
   "id": "1f70fa8b-cf64-46fd-ab9b-72a64bb64eb8",
   "metadata": {},
   "outputs": [],
   "source": [
    "# Q11. You are given a CSV file containing student data that includes the student ID and their test score. Write\n",
    "# a Python program that reads the CSV file, calculates the mean, median, and mode of the test scores, and\n",
    "# displays the results in a table.\n",
    "try:\n",
    "    student = pd.read_csv('student_data.csv')\n",
    "    \n",
    "    student['Mean'] = student.mean(axis=1)\n",
    "    \n",
    "    student['Median'] = student.median(axis=1)\n",
    "    \n",
    "    student['Mode'] = student.mode(axis=1)\n",
    "    \n",
    "    student.set_index('Student ID', inplace=True)\n",
    "    logging.info(student)\n",
    "except (ValueError, TypeError, IndexError) as e:\n",
    "    logging.error(e)"
   ]
  },
  {
   "cell_type": "code",
   "execution_count": null,
   "id": "cc7b2c39-d3e3-4dc7-a538-38f08dbc57a5",
   "metadata": {},
   "outputs": [],
   "source": []
  },
  {
   "cell_type": "code",
   "execution_count": null,
   "id": "b584c546-fcfb-477d-a812-af93ad70279c",
   "metadata": {},
   "outputs": [],
   "source": []
  },
  {
   "cell_type": "code",
   "execution_count": null,
   "id": "651f724b-dd56-4433-a731-1a18d03909fc",
   "metadata": {},
   "outputs": [],
   "source": []
  },
  {
   "cell_type": "code",
   "execution_count": null,
   "id": "d24e68bc-b958-4df3-b184-cf01344a5963",
   "metadata": {},
   "outputs": [],
   "source": []
  }
 ],
 "metadata": {
  "kernelspec": {
   "display_name": "Python 3 (ipykernel)",
   "language": "python",
   "name": "python3"
  },
  "language_info": {
   "codemirror_mode": {
    "name": "ipython",
    "version": 3
   },
   "file_extension": ".py",
   "mimetype": "text/x-python",
   "name": "python",
   "nbconvert_exporter": "python",
   "pygments_lexer": "ipython3",
   "version": "3.10.8"
  }
 },
 "nbformat": 4,
 "nbformat_minor": 5
}
